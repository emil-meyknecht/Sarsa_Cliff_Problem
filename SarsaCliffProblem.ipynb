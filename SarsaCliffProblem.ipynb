{
  "nbformat": 4,
  "nbformat_minor": 5,
  "metadata": {
    "kernelspec": {
      "display_name": "Python 3 (ipykernel)",
      "language": "python",
      "name": "python3"
    },
    "language_info": {
      "codemirror_mode": {
        "name": "ipython",
        "version": 3
      },
      "file_extension": ".py",
      "mimetype": "text/x-python",
      "name": "python",
      "nbconvert_exporter": "python",
      "pygments_lexer": "ipython3",
      "version": "3.9.6"
    },
    "colab": {
      "name": "SarsaCliffProblem.ipynb",
      "provenance": [],
      "collapsed_sections": [],
      "include_colab_link": true
    }
  },
  "cells": [
    {
      "cell_type": "markdown",
      "metadata": {
        "id": "view-in-github",
        "colab_type": "text"
      },
      "source": [
        "<a href=\"https://colab.research.google.com/github/emil-meyknecht/Sarsa_Cliff_Problem/blob/main/SarsaCliffProblem.ipynb\" target=\"_parent\"><img src=\"https://colab.research.google.com/assets/colab-badge.svg\" alt=\"Open In Colab\"/></a>"
      ]
    },
    {
      "cell_type": "code",
      "metadata": {
        "id": "fmpDrE6VRXNq"
      },
      "source": [
        ""
      ],
      "id": "fmpDrE6VRXNq",
      "execution_count": null,
      "outputs": []
    },
    {
      "cell_type": "markdown",
      "metadata": {
        "tags": [],
        "id": "397eb8a9-84a2-488e-8481-f4b58481f28d"
      },
      "source": [
        "# Reinforcement Learning \n",
        "A computational model of reinforcement learning for a simple Gridworld Problem\n",
        "\n",
        "```\n",
        "  ____    ____     ____   ____\n",
        "  ____    ____     ____   ____\n",
        "\n",
        "|| s00  |  s01  |  s02 | s03 ||\n",
        "  ____    ____     ____   ____\n",
        "    \n",
        "|| s04  |  s05  |  s06 | s07 ||\n",
        "  ____    ____     ____   ====\n",
        "  \n",
        "|| s08  |  s09  |  s10 | s11 ||\n",
        "  ____    ____     ====   ____\n",
        "   \n",
        "|| s12  |  s13  |  s14 | s15 ||\n",
        "  ____    ____     ____   ____\n",
        "  ____    ____     ____   ____\n",
        "```\n",
        "\n",
        " - Agent starts in s0 and can chose from 4 different actions (up, down, left, right).\n",
        " \n",
        " - Reward is only delivered in final state 15.\n",
        " \n",
        " - || (horizontal & vertical) indicates non-permeable wall\n",
        " - | (horizontal & vertical) indicates permeable wall\n",
        " \n",
        " <br>\n",
        " <br>\n",
        " Course: Cognitive Modelling (4032COGNMY)  <br>\n",
        " Author: Franz Wurm <f.r.wurm@fsw.leidenuniv.nl> <br>\n",
        " Date: Sept. 2021"
      ],
      "id": "397eb8a9-84a2-488e-8481-f4b58481f28d"
    },
    {
      "cell_type": "markdown",
      "metadata": {
        "id": "299393b5-5465-4930-9db0-d00d9595e84a"
      },
      "source": [
        "### Load packages\n",
        "\n",
        "In a first step we should load important packages"
      ],
      "id": "299393b5-5465-4930-9db0-d00d9595e84a"
    },
    {
      "cell_type": "code",
      "metadata": {
        "id": "7a52a653-3f38-4c39-a68a-5d58280d03e2"
      },
      "source": [
        "import numpy as np\n",
        "import matplotlib.pyplot as plt\n",
        "from copy import deepcopy\n",
        "\n",
        "np.set_printoptions(formatter={'float': lambda x: \"{0:0.1f}\".format(x)}) #print float values with 1 decimal"
      ],
      "id": "7a52a653-3f38-4c39-a68a-5d58280d03e2",
      "execution_count": null,
      "outputs": []
    },
    {
      "cell_type": "markdown",
      "metadata": {
        "id": "d3f4d93e-882f-452f-bcff-294747d36bc4"
      },
      "source": [
        "### Set parameters\n",
        "\n",
        "Here we set the framework for our simulation and the agent(s)"
      ],
      "id": "d3f4d93e-882f-452f-bcff-294747d36bc4"
    },
    {
      "cell_type": "code",
      "metadata": {
        "id": "9a30c595-8716-4fbb-8ded-7f83bad39812"
      },
      "source": [
        "nTrial = 100 #specify how many times you want to run the q-learning function\n",
        "nAgent = 100\n",
        "\n",
        "method = 'egreedy' #options: greedy | egreedy | softmax\n",
        "\n",
        "alpha = 0.1 #learning rate\n",
        "beta = 1 #inverse temperature\n",
        "gamma = 1 # discounting factor\n",
        "epsilon = 0.1 #parameter for ε-greedy action selection"
      ],
      "id": "9a30c595-8716-4fbb-8ded-7f83bad39812",
      "execution_count": null,
      "outputs": []
    },
    {
      "cell_type": "markdown",
      "metadata": {
        "id": "b1e09cfa-4e8c-4c46-80c1-ef92091daf7f"
      },
      "source": [
        "### Initialize variables\n",
        "\n",
        "Here we define important variables (e.g. the start and goal state of the environment)"
      ],
      "id": "b1e09cfa-4e8c-4c46-80c1-ef92091daf7f"
    },
    {
      "cell_type": "code",
      "metadata": {
        "id": "c7169847-4520-4354-8631-ff2737453bb2",
        "colab": {
          "base_uri": "https://localhost:8080/"
        },
        "outputId": "12480158-6767-461c-c2d6-dc94cf68a1ee"
      },
      "source": [
        "actions = np.array(['up', 'left', 'down', 'right'])\n",
        "\n",
        "s_0 = 24 #start state\n",
        "s_cliff = [25,26,27,28, 29, 30]\n",
        "s_terminal = 31 #final state (goal)\n",
        "\n",
        "envsizeHorizontal = 4 #size of the environment\n",
        "envsizeVertical = 8 #size of the environment\n",
        "iZ = 0\n",
        "states= np.empty([envsizeHorizontal,envsizeVertical],dtype=float)\n",
        "for iY in range(envsizeHorizontal):\n",
        "    for iX in range(envsizeVertical):\n",
        "        states[iY][iX] = iZ\n",
        "        iZ +=1\n",
        "#print('states')\n",
        "print(states)        \n",
        "\n",
        "movecounterQ = np.empty([nTrial,nAgent] )\n",
        "movecounterSarsa = np.empty([nTrial,nAgent] )"
      ],
      "id": "c7169847-4520-4354-8631-ff2737453bb2",
      "execution_count": null,
      "outputs": [
        {
          "output_type": "stream",
          "name": "stdout",
          "text": [
            "[[0.0 1.0 2.0 3.0 4.0 5.0 6.0 7.0]\n",
            " [8.0 9.0 10.0 11.0 12.0 13.0 14.0 15.0]\n",
            " [16.0 17.0 18.0 19.0 20.0 21.0 22.0 23.0]\n",
            " [24.0 25.0 26.0 27.0 28.0 29.0 30.0 31.0]]\n"
          ]
        }
      ]
    },
    {
      "cell_type": "markdown",
      "metadata": {
        "id": "f28764b4-ae33-4edc-a601-d3a1c523ba1d"
      },
      "source": [
        "### Helper function\n",
        "\n",
        "Some computational steps have to be performed multiple times.\n",
        "Here we define those function so we can call them later on in the script."
      ],
      "id": "f28764b4-ae33-4edc-a601-d3a1c523ba1d"
    },
    {
      "cell_type": "code",
      "metadata": {
        "id": "7157acc0-9346-4240-a3c6-8028f1f689fd"
      },
      "source": [
        "def move1step(instate,action):\n",
        "    \n",
        "    coords = list(np.where(states == instate))\n",
        "    \n",
        "    if (action == 'up'):\n",
        "        coords[0] -= 1\n",
        "    if (action == 'down'):\n",
        "        coords[0] += 1\n",
        "    if (action == 'left'):\n",
        "        coords[1] -= 1\n",
        "    if (action == 'right'):\n",
        "        coords[1] += 1\n",
        "        \n",
        "    if (coords[0] < 0):\n",
        "        coords[0] = 0\n",
        "    if (coords[1] < 0):\n",
        "        coords[1] = 0 \n",
        "    if (coords[0] >= envsizeHorizontal):\n",
        "        coords[0] = envsizeHorizontal-1    \n",
        "    if (coords[1] >= envsizeVertical):\n",
        "        coords[1] = envsizeVertical-1\n",
        "        \n",
        "    outstate = states[coords[0],coords[1]]   \n",
        "    return(outstate)  \n",
        "\n",
        "def getReward(state1,state2):\n",
        "    if (state2 == s_terminal):\n",
        "        reward = 10 #final reward at the end of the run\n",
        "    else:\n",
        "        reward = 0 #intermediate reward (after each action) \n",
        "    if (state1 == state2):\n",
        "        reward = 0 #reward for running into a wall?\n",
        "    if (state2 in s_cliff):\n",
        "       reward = - 10\n",
        "    return reward\n",
        "\n",
        "def reset(states):\n",
        "    if (state2 in s_cliff):\n",
        "       state1 = s_0\n",
        "def reset(states):\n",
        "    states.state (0,0)\n",
        "\n",
        "#ga terug\n",
        "    return states\n",
        "    \n",
        "\n",
        "#Function to get an action with eGreedy\n",
        "def eGreedy(actions, qvals):\n",
        "    if (np.random.random() < epsilon):\n",
        "        action = np.random.choice(actions, size = 1)\n",
        "\n",
        "    else:\n",
        "        choices = np.array(qvals == np.max(qvals))\n",
        "        action = np.random.choice(actions[choices.flatten()])\n",
        "    \n",
        "    return action\n",
        "    "
      ],
      "id": "7157acc0-9346-4240-a3c6-8028f1f689fd",
      "execution_count": null,
      "outputs": []
    },
    {
      "cell_type": "markdown",
      "metadata": {
        "id": "f4fda619-f539-444a-95c9-5db07a7380a0"
      },
      "source": [
        "### Start of simulation\n",
        "\n",
        "Now that we have defined the agent and the environment, we can start the simulation"
      ],
      "id": "f4fda619-f539-444a-95c9-5db07a7380a0"
    },
    {
      "cell_type": "code",
      "metadata": {
        "id": "fa1f8b03-7b9a-48c0-99bf-e616bd2b8601",
        "colab": {
          "base_uri": "https://localhost:8080/"
        },
        "outputId": "62eb071b-ff71-4e48-92b8-cf56e1883a28"
      },
      "source": [
        "#First loop using a SARSA method \n",
        "print('AgentSarsa')\n",
        "for iA in range(nAgent):\n",
        "    \n",
        "    print(iA, end=' ')\n",
        "    Q = np.zeros([len(actions),envsizeHorizontal,envsizeVertical] )\n",
        "    # Q matrix (actions,x-coordinate states, y-coordinate states)\n",
        "\n",
        "    #print('initial Q matrix:\\n' + str(Q) + '\\n')\n",
        "    Q0Sarsa = deepcopy(Q)\n",
        "\n",
        "    for iT in range(nTrial): # loop for the different runs\n",
        "        #if (iT % 100) == 0:\n",
        "            #print(iT)\n",
        "        state = s_0\n",
        "        moves = 0\n",
        "\n",
        "        \n",
        "        coord0 = np.where(states == state)\n",
        "        qvals = Q[:,coord0[0],coord0[1]]\n",
        "        \n",
        "        #Get the first action before the loop\n",
        "        action = eGreedy(actions, qvals)\n",
        "        \n",
        "        while (state != s_terminal): # loop within one run\n",
        "\n",
        "            #Get the coordinates of the current state\n",
        "            coord0 = np.where(states == state)\n",
        "\n",
        "            #Take the action and observe the reward\n",
        "            next_state = move1step(state,action)\n",
        "            coord1 = np.where(states == next_state)\n",
        "            reward = getReward(state,next_state)\n",
        "\n",
        "            #Get the Q-vals of current state in order to determine next action\n",
        "            qvals = Q[:,coord1[0],coord1[1]]\n",
        "\n",
        "            #Get the next action with e-Greedy\n",
        "            nextaction = eGreedy(actions,qvals)\n",
        "            \n",
        "            #Index of the first action\n",
        "            actionidx = (action==actions)\n",
        "\n",
        "            #Index of the second action\n",
        "            nextactionidx = (nextaction==actions)\n",
        "\n",
        "            #Q-value(Current action) = Q-value(Current action) + (Learning-rate * (Reward +(discount-factor * (Q-Value(Next action) - Q-value(Current action))))\n",
        "            Q[actionidx,coord0[0],coord0[1]] = Q[actionidx,coord0[0],coord0[1]] + alpha * (reward + gamma * (Q[nextactionidx,coord1[0],coord1[1]]) - Q[actionidx,coord0[0],coord0[1]])\n",
        "\n",
        "            if ((iT == 0) and (next_state == s_terminal)):\n",
        "                #print('Q matrix before first successful run:\\n' + str(Q) + '\\n')\n",
        "                Q1Sarsa = deepcopy(Q)\n",
        "        \n",
        "            # update variables for next cycle\n",
        "            state = next_state\n",
        "            action = nextaction\n",
        "            moves += 1\n",
        "        \n",
        "        #end of while loop\n",
        "        movecounterSarsa[iT,iA] = moves\n",
        "    #end of trial for loop\n",
        "    #print('final Q matrix:\\n' + str(Q) + '\\n')\n",
        "    Q2Sarsa = deepcopy(Q)\n",
        "#end of agent for loop\n",
        "print('\\n\\nFinal Q(s,a) for agent '+str(iA))\n",
        "print(Q, \"\\n\\n\")\n",
        "\n",
        "\n"
      ],
      "id": "fa1f8b03-7b9a-48c0-99bf-e616bd2b8601",
      "execution_count": null,
      "outputs": [
        {
          "output_type": "stream",
          "name": "stdout",
          "text": [
            "AgentSarsa\n",
            "0 1 2 3 4 5 6 7 8 9 10 11 12 13 14 15 16 17 18 19 20 21 22 23 24 25 26 27 28 29 30 31 32 33 34 35 36 37 38 39 40 41 42 43 44 45 46 47 48 49 50 51 52 53 54 55 56 57 58 59 60 61 62 63 64 65 66 67 68 69 70 71 72 73 74 75 76 77 78 79 80 81 82 83 84 85 86 87 88 89 90 91 92 93 94 95 96 97 98 99 \n",
            "\n",
            "Final Q(s,a) for agent 99\n",
            "[[[0.0 0.0 -0.0 0.0 0.0 0.0 0.0 0.0]\n",
            "  [0.0 0.0 0.0 0.0 0.1 0.1 0.0 0.0]\n",
            "  [3.0 -0.0 0.0 0.0 4.1 1.8 1.1 2.2]\n",
            "  [2.0 0.0 0.0 0.0 0.1 0.0 0.0 0.0]]\n",
            "\n",
            " [[0.0 0.0 0.0 0.0 0.0 0.0 0.0 0.0]\n",
            "  [0.2 0.2 0.7 0.8 1.7 0.0 0.0 1.3]\n",
            "  [0.2 -0.0 0.0 0.0 0.0 -0.1 0.0 0.0]\n",
            "  [-0.0 -0.0 -1.0 -1.0 -1.9 -1.0 -1.0 0.0]]\n",
            "\n",
            " [[-0.0 0.3 0.4 -0.0 2.5 1.5 0.2 0.0]\n",
            "  [0.0 -0.1 0.0 0.0 0.1 0.1 0.0 9.5]\n",
            "  [-0.0 -1.9 -1.0 -1.9 -2.8 -1.0 -1.8 10.0]\n",
            "  [0.1 -1.0 0.0 -1.0 -1.9 0.0 0.0 0.0]]\n",
            "\n",
            " [[0.1 0.0 0.0 0.4 0.0 0.0 0.0 0.0]\n",
            "  [3.7 4.2 6.0 7.0 8.0 8.5 9.1 1.7]\n",
            "  [0.0 0.0 0.1 1.0 0.0 -0.1 0.0 0.7]\n",
            "  [-4.2 -1.9 0.0 -1.1 -1.0 -1.0 1.9 0.0]]] \n",
            "\n",
            "\n"
          ]
        }
      ]
    },
    {
      "cell_type": "markdown",
      "metadata": {
        "id": "11c8dfee-64cb-439c-a3bf-9bc76bb76e1a"
      },
      "source": [
        "### Plotting performance"
      ],
      "id": "11c8dfee-64cb-439c-a3bf-9bc76bb76e1a"
    },
    {
      "cell_type": "code",
      "metadata": {
        "id": "a951eb53-3296-487b-927e-de3968bf7f0d"
      },
      "source": [
        ""
      ],
      "id": "a951eb53-3296-487b-927e-de3968bf7f0d",
      "execution_count": null,
      "outputs": []
    },
    {
      "cell_type": "code",
      "metadata": {
        "id": "502769ef-d4cc-4ea1-85e1-1b46bb45f884",
        "colab": {
          "base_uri": "https://localhost:8080/"
        },
        "outputId": "a8bacf5f-cca8-415e-ebf6-8dbd77017637"
      },
      "source": [
        "#Q2_0 = np.reshape(np.zeros([6,1]),[3,2])\n",
        "\n",
        "#Q2 = np.zeros([6,1])\n",
        "#Q2test = np.zeros([6,1])\n",
        "#idx = [0, 5, 1, 4, 2, 3]\n",
        "\n",
        "Qmat0Sarsa = np.mean(Q0Sarsa,axis=0)\n",
        "Qmat1Sarsa = np.mean(Q1Sarsa,axis=0)\n",
        "Qmat2Sarsa = np.mean(Q2Sarsa,axis=0)\n",
        "\n",
        "\n",
        "\n",
        "\n",
        "#for i in range(6):\n",
        "#    Q2[i] = Qmat1[idx[i]]  \n",
        "#    Q2test[i] = Qmat2[idx[i]]  \n",
        "#Q2_test = np.reshape(Q2test,[3,2])\n",
        "#Q2_1 = np.reshape(Q2,[3,2])\n",
        "\n",
        "print(Qmat0Sarsa)\n",
        "print(Qmat1Sarsa)\n",
        "print(Qmat2Sarsa)\n"
      ],
      "id": "502769ef-d4cc-4ea1-85e1-1b46bb45f884",
      "execution_count": null,
      "outputs": [
        {
          "output_type": "stream",
          "name": "stdout",
          "text": [
            "[[0.0 0.0 0.0 0.0 0.0 0.0 0.0 0.0]\n",
            " [0.0 0.0 0.0 0.0 0.0 0.0 0.0 0.0]\n",
            " [0.0 0.0 0.0 0.0 0.0 0.0 0.0 0.0]\n",
            " [0.0 0.0 0.0 0.0 0.0 0.0 0.0 0.0]]\n",
            "[[0.0 0.0 0.0 0.0 0.0 0.0 0.0 0.0]\n",
            " [0.0 -0.0 0.0 0.0 0.0 0.0 0.0 0.0]\n",
            " [0.0 -0.5 -0.2 -0.2 -0.2 0.0 -0.2 0.0]\n",
            " [-0.5 -0.2 -0.2 0.0 -0.5 -0.2 0.0 0.0]]\n",
            "[[0.0 0.1 0.1 0.1 0.6 0.4 0.0 0.0]\n",
            " [1.0 1.1 1.7 2.0 2.5 2.2 2.3 3.1]\n",
            " [0.8 -0.5 -0.2 -0.2 0.3 0.1 -0.2 3.2]\n",
            " [-0.5 -0.7 -0.2 -0.8 -1.2 -0.5 0.2 0.0]]\n"
          ]
        }
      ]
    },
    {
      "cell_type": "code",
      "metadata": {
        "id": "c1f0e47c-f608-4614-8965-204a376f8e41",
        "colab": {
          "base_uri": "https://localhost:8080/",
          "height": 100
        },
        "outputId": "fc8efff2-8301-455d-ea1d-e9dee3a59244"
      },
      "source": [
        "fig, (ax1, ax2, ax3) = plt.subplots(1, 3)\n",
        "\n",
        "layout = [['s0', 's5,6'], ['s1', 's4'], ['s2', 's3']]\n",
        "\n",
        "min_val, max_val = -1, 10\n",
        "\n",
        "for i in range(envsizeVertical):\n",
        "    for j in range(envsizeHorizontal):\n",
        "        ax1.text(i, j, str(states[j][i].astype(int)), va='center', ha='center',size=10)\n",
        "        ax2.text(i, j, str(states[j][i].astype(int)), va='center', ha='center',size=10)\n",
        "        ax3.text(i, j, str(states[j][i].astype(int)), va='center', ha='center',size=10)\n",
        "ax1.matshow(Qmat0Sarsa, cmap=plt.cm.Blues)  \n",
        "ax2.matshow(Qmat1Sarsa, cmap=plt.cm.Blues)\n",
        "ax3.matshow(Qmat2Sarsa, cmap=plt.cm.Blues)\n",
        "\n",
        "ax1.axes.xaxis.set_visible(False)\n",
        "ax1.axes.yaxis.set_visible(False)\n",
        "ax2.axes.xaxis.set_visible(False)\n",
        "ax2.axes.yaxis.set_visible(False)\n",
        "ax3.axes.xaxis.set_visible(False)\n",
        "ax3.axes.yaxis.set_visible(False)\n",
        "\n",
        "\n",
        "\n",
        "ax1.title.set_text(f\"'Run 0 with e = {epsilon}'\")\n",
        "ax1.title.set_size(10)\n",
        "ax2.title.set_text(f\"'Run 1 with e = {epsilon}'\")\n",
        "ax2.title.set_size(10)\n",
        "ax3.title.set_text(f\"'Run X with e = {epsilon}'\")\n",
        "ax3.title.set_size(10)\n"
      ],
      "id": "c1f0e47c-f608-4614-8965-204a376f8e41",
      "execution_count": null,
      "outputs": [
        {
          "output_type": "display_data",
          "data": {
            "image/png": "[encoded data removed]",
            "text/plain": [
              "<Figure size 432x288 with 3 Axes>"
            ]
          },
          "metadata": {
            "needs_background": "light"
          }
        }
      ]
    },
    {
      "cell_type": "markdown",
      "metadata": {
        "id": "c55b299d-d2c0-4311-904b-afb53b7e63e6"
      },
      "source": [
        "### Plotting policy\n",
        "\n",
        "Following Sutton & Barto (2018), a policy \"defines the learning agent's way of behaving at a given time\", i.e. the mapping between states and actions."
      ],
      "id": "c55b299d-d2c0-4311-904b-afb53b7e63e6"
    },
    {
      "cell_type": "code",
      "metadata": {
        "id": "eae7e9ec-a19e-43a8-82cc-892085657c9d",
        "colab": {
          "base_uri": "https://localhost:8080/"
        },
        "outputId": "54a488f1-361a-4cac-95e9-4e5e90323094"
      },
      "source": [
        "index_max = np.argmax(Q2Sarsa,axis=0)\n",
        "print(index_max)"
      ],
      "id": "eae7e9ec-a19e-43a8-82cc-892085657c9d",
      "execution_count": null,
      "outputs": [
        {
          "output_type": "stream",
          "name": "stdout",
          "text": [
            "[[3 2 2 3 2 2 2 1]\n",
            " [3 3 3 3 3 3 3 2]\n",
            " [0 3 3 3 0 0 0 2]\n",
            " [0 0 0 0 0 0 3 0]]\n"
          ]
        }
      ]
    },
    {
      "cell_type": "markdown",
      "metadata": {
        "jp-MarkdownHeadingCollapsed": true,
        "tags": [],
        "id": "095cfaa8-8a9d-492b-891d-511f18071d5a"
      },
      "source": [
        "# Questions\n",
        "\n",
        "How could we make the RL model converge faster to the best course of actions?\n",
        "- learning rule?\n",
        "- choice rule?\n",
        "- environment"
      ],
      "id": "095cfaa8-8a9d-492b-891d-511f18071d5a"
    },
    {
      "cell_type": "markdown",
      "metadata": {
        "id": "604252e5-ef35-4244-afe4-ebdbe90b3099"
      },
      "source": [
        "# Tips and tricks\n",
        "\n",
        "1. Print important variables using the `print()` function (e.g., Q)\n",
        "2. Or even better: plot it!\n",
        "2. If you dont know a function, try the ? (e.g., `np.array?`)\n"
      ],
      "id": "604252e5-ef35-4244-afe4-ebdbe90b3099"
    }
  ]
}